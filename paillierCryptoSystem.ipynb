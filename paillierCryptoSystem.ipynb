{
 "cells": [
  {
   "cell_type": "markdown",
   "metadata": {},
   "source": [
    "# Paillier Crypto System\n",
    "\n",
    "1999 von Pascal Paillier vorgestellt in seinem Paper:\n",
    "\n",
    "[Public-Key Cryptosystems Based on Composite\n",
    "Degree Residuosity Classes](Seminararbeit/Literatur/paillier_pubKeyCryptosystem.pdf)\n",
    "\n",
    "Es ist ein __asymmetrisches Verschlüsselungsverfahren__.\n",
    "\n",
    "Daher gibt es sowohl einen __public Key__ wie auch einen __private Key__.\n",
    "\n",
    "Mithilfe des __public Key__ können andere Daten verschlüsseln, die nur der Besitzer des __private Keys__ entschlüsseln kann.\n",
    "\n",
    "\n",
    "## Primzahlen\n",
    "Für die Erzeugung der beiden Keys benötigen wir:\n",
    "- zwei ausreichend große Primzahlen\n",
    "  - mit selber Bit-Länge\n",
    "  - hier __STARK__ begrenzte Bit-Länge\n",
    "\n",
    "*Im realen Gebrauch sollten die Primzahlen jeweils mindestens 1024 bits haben, besser 2048 bits oder mehr. Die Zerlegung in Primfaktoren wird erschwert, allerdings wird auch der Rechenaufwand erhöht.* "
   ]
  },
  {
   "cell_type": "code",
   "execution_count": 1,
   "metadata": {},
   "outputs": [
    {
     "name": "stdout",
     "output_type": "stream",
     "text": [
      "Bit length of 197 is: 8 bits\n",
      "Bit length of 251 is: 8 bits\n"
     ]
    }
   ],
   "source": [
    "from sympy import randprime\n",
    "\n",
    "def create_primes(bits):\n",
    "\n",
    "    # declare bit-length of primes\n",
    "    # 4 bit primes, between 8 and 16: 11, 13\n",
    "    bit_length = bits\n",
    "\n",
    "    # Generate first bit-length prime number\n",
    "    p = randprime(2**(bit_length-1), 2**bit_length - 1)\n",
    "\n",
    "    # Generate second bit-length prime number different from the first one\n",
    "    q = randprime(2**(bit_length-1), 2**bit_length - 1)\n",
    "    while q == p:\n",
    "        q = randprime(2**(bit_length-1), 2**bit_length - 1)\n",
    "\n",
    "    bit_length_p = p.bit_length()\n",
    "    bit_length_q = q.bit_length()\n",
    "\n",
    "    print(f\"Bit length of {p} is: {bit_length_p} bits\")\n",
    "    print(f\"Bit length of {q} is: {bit_length_q} bits\")\n",
    "    return p, q\n",
    "\n",
    "p, q = create_primes(8)"
   ]
  },
  {
   "cell_type": "markdown",
   "metadata": {},
   "source": [
    "### größter gemeinsamer Teiler\n",
    "\n",
    "Die gewählten Primzahlen müssen: \n",
    "\n",
    "$ggT(pq,(p-1) * (q-1)) = 1$\n",
    "\n",
    "erfüllen.\n",
    "\n",
    "Wobei, $n = p \\cdot q$ ist und\n",
    "\n",
    "$\\varphi = (p-1) \\cdot (q-1)$ die Eulersche Phi Funktion ist."
   ]
  },
  {
   "cell_type": "code",
   "execution_count": 2,
   "metadata": {},
   "outputs": [],
   "source": [
    "n = (p * q)\n",
    "phi = (p - 1) * (q - 1)\n",
    "\n",
    "def ggT(a, b):\n",
    "    while b != 0:\n",
    "        a, b = b, a % b\n",
    "    return a"
   ]
  },
  {
   "cell_type": "code",
   "execution_count": 3,
   "metadata": {},
   "outputs": [
    {
     "name": "stdout",
     "output_type": "stream",
     "text": [
      "ggT =  1\n"
     ]
    }
   ],
   "source": [
    "result_ggT = ggT(n, phi)\n",
    "print(\"ggT = \", result_ggT)\n",
    "assert result_ggT == 1"
   ]
  },
  {
   "cell_type": "markdown",
   "metadata": {},
   "source": [
    "## Public Key\n",
    "\n",
    "Der __public Key__ besteht aus: $n, g$.\n",
    "\n",
    "$n=(p\\cdot q)$\n",
    "\n",
    "$g:$ zufällig gewähltes $g$ aus $({\\mathbb {Z}}/n^{2}{\\mathbb {Z}})^{*}$, so dass $n$ ($n=p \\cdot q$) die Ordnung von $g$ teilt."
   ]
  },
  {
   "cell_type": "code",
   "execution_count": 4,
   "metadata": {},
   "outputs": [
    {
     "name": "stdout",
     "output_type": "stream",
     "text": [
      "Multiplikative Gruppe (Z/n^2Z)* für n = 49447 enthält 118901097 Elemente.\n",
      "Random int g:  1147970869\n",
      "Public Key:  (49447, 1147970869)\n"
     ]
    }
   ],
   "source": [
    "import random\n",
    "from sympy import isprime\n",
    "\n",
    "# num has to be prime and ggT(num, n^2) == 1\n",
    "def multi_group_g(n):\n",
    "    group_g = []\n",
    "    for num in range(1, n*n):\n",
    "        if isprime(num) and ggT(num, n*n) == 1:\n",
    "            group_g.append(num)\n",
    "    return group_g\n",
    "\n",
    "# random choice of g out of group_g\n",
    "group_g = multi_group_g(n)\n",
    "g = random.choice(group_g)\n",
    "\n",
    "print(\"Multiplikative Gruppe (Z/n^2Z)* für n =\", n, \"enthält\", len(group_g), \"Elemente.\\nRandom int g: \", g)\n",
    "\n",
    "# final public Key\n",
    "pubKey = n, g\n",
    "print(\"Public Key: \", pubKey)"
   ]
  },
  {
   "cell_type": "markdown",
   "metadata": {},
   "source": [
    "## Private Key\n",
    "\n",
    "Der __private Key__ besteht aus $\\lambda$ und $\\mu$.\n",
    "\n",
    "### $\\lambda$\n",
    "\n",
    "$\\lambda$ ist das kleinste gemeinsame Vielfache (lowest common multiple)\n",
    "\n",
    "$\\lambda = kgV(p - 1, q - 1)$\n",
    "\n",
    "$kgV = \\frac{|a \\cdot b|}{ggT(a,b)}$\n"
   ]
  },
  {
   "cell_type": "code",
   "execution_count": 5,
   "metadata": {},
   "outputs": [
    {
     "name": "stdout",
     "output_type": "stream",
     "text": [
      "Lambda:  24500\n"
     ]
    }
   ],
   "source": [
    "# kgV\n",
    "def lcm(a, b):\n",
    "    return abs(a * b) // ggT(a, b)\n",
    "\n",
    "# lambda\n",
    "def calc_lmbda(p, q):\n",
    "    lmbda = lcm(p-1, q-1)\n",
    "    return lmbda\n",
    "\n",
    "lmbda = calc_lmbda(p, q)\n",
    "print(\"Lambda: \", lmbda)"
   ]
  },
  {
   "cell_type": "markdown",
   "metadata": {},
   "source": [
    "### $\\mu$\n",
    "\n",
    "$L(x)= \\frac{(x-1)}{n}$\n",
    "\n",
    "$\\mu = (L(g^\\lambda \\mod n^2))^{-1} \\mod n$"
   ]
  },
  {
   "cell_type": "code",
   "execution_count": 6,
   "metadata": {},
   "outputs": [
    {
     "name": "stdout",
     "output_type": "stream",
     "text": [
      "Private Key:  (24500, 30061)\n"
     ]
    }
   ],
   "source": [
    "# L(x)\n",
    "def L(x, n):\n",
    "    return ((x - 1) // n)\n",
    "\n",
    "# Mu\n",
    "def calc_mu(g, lmbda, n):\n",
    "    x = pow(g, lmbda, n**2)\n",
    "    temp = L(x, n)\n",
    "    mu = int(pow(temp, -1, n))\n",
    "    return mu\n",
    "\n",
    "mu = calc_mu(g, lmbda, n)\n",
    "\n",
    "# final private Key\n",
    "privKey = lmbda, mu\n",
    "print(\"Private Key: \", privKey)"
   ]
  },
  {
   "cell_type": "markdown",
   "metadata": {},
   "source": [
    "## Verschlüsselungsprozess\n",
    "\n",
    "Wir setzen $m =$ Klartext mit $m \\in (\\mathbb{Z} / n \\mathbb{Z})$, d.h. $m<n$.\n",
    "\n",
    "Damit ist der Ciphertext $c$:\n",
    "\n",
    "$c = g^m \\cdot r^n \\mod n^2$\n",
    "\n",
    "$r:$ zufällig gewähltes $r \\in (\\mathbb{Z} / n \\mathbb{Z})^*$"
   ]
  },
  {
   "cell_type": "code",
   "execution_count": 7,
   "metadata": {},
   "outputs": [
    {
     "name": "stdout",
     "output_type": "stream",
     "text": [
      "Multiplikative Gruppe (Z/nZ)* für n = 49447 enthält 5078 Elemente.\n",
      "Random int r:  25423\n"
     ]
    }
   ],
   "source": [
    "# num has to be prime and ggT(num, n) == 1\n",
    "def multi_group_r(n):\n",
    "    group_r = []\n",
    "    for num in range(1, n):\n",
    "        if isprime(num) and ggT(num, n) == 1:\n",
    "            group_r.append(num)\n",
    "    return group_r\n",
    "\n",
    "# random choice of r out of group_r\n",
    "def choose_r(n):\n",
    "    group_r = multi_group_r(n)\n",
    "    r = random.choice(group_r)\n",
    "    print(\"Multiplikative Gruppe (Z/nZ)* für n =\", n, \"enthält\", len(group_r), \"Elemente.\\nRandom int r: \", r)\n",
    "    return r\n",
    "\n",
    "r = choose_r(n)"
   ]
  },
  {
   "cell_type": "markdown",
   "metadata": {},
   "source": [
    "#### Verschlüsselung\n",
    "\n",
    "Für die __Verschlüsselung__ benötigen wir den __Public Key__ , $r$ und einen Klartext."
   ]
  },
  {
   "cell_type": "code",
   "execution_count": 8,
   "metadata": {},
   "outputs": [],
   "source": [
    "def encryption(g, m, r, n):\n",
    "    c =  pow(g, m) * pow(r, n) % n**2\n",
    "    return c"
   ]
  },
  {
   "cell_type": "code",
   "execution_count": 9,
   "metadata": {},
   "outputs": [
    {
     "name": "stdout",
     "output_type": "stream",
     "text": [
      "Klartext num1:  2 \n",
      "Ciphertext c1:  2196859067 \n",
      "\n",
      "Klartext num2:  7 \n",
      "Ciphertext c2:  551182097\n"
     ]
    }
   ],
   "source": [
    "# Example Numbers\n",
    "num1 = 2\n",
    "num2 = 7\n",
    "\n",
    "c1 = encryption(g, num1, r, n)\n",
    "c2 = encryption(g,num2,r,n)\n",
    "\n",
    "print(\"Klartext num1: \", num1, \"\\nCiphertext c1: \", c1 , \"\\n\")\n",
    "print(\"Klartext num2: \", num2, \"\\nCiphertext c2: \", c2)"
   ]
  },
  {
   "cell_type": "markdown",
   "metadata": {},
   "source": [
    "## Entschlüsselungsprozess\n",
    "\n",
    "$m = L(c^{\\lambda} \\mod n^2) \\cdot \\mu \\mod n$\n",
    "\n",
    "Hierbei wird der __Private Key__ verwendet.\n",
    "\n",
    "$L(x)$ ist die oben definierte Funktion."
   ]
  },
  {
   "cell_type": "code",
   "execution_count": 10,
   "metadata": {},
   "outputs": [],
   "source": [
    "def decryption(c, lmbda, n, mu):\n",
    "    temp_Lx = pow(c, lmbda, n**2)\n",
    "    k =  (L(temp_Lx, n) * mu) % n\n",
    "    return k"
   ]
  },
  {
   "cell_type": "code",
   "execution_count": 11,
   "metadata": {},
   "outputs": [
    {
     "name": "stdout",
     "output_type": "stream",
     "text": [
      "entschlüsselter Klartext num1:  2\n",
      "entschlüsselter Klartext num2:  7\n"
     ]
    }
   ],
   "source": [
    "k1 = decryption(c1, lmbda, n, mu)\n",
    "k2 = decryption(c2, lmbda, n, mu)\n",
    "print(\"entschlüsselter Klartext num1: \", k1)\n",
    "print(\"entschlüsselter Klartext num2: \", k2)"
   ]
  },
  {
   "cell_type": "markdown",
   "metadata": {},
   "source": [
    "# Die Addition als Homomorphe Eigenschaft\n",
    "\n",
    "Durch Multiplikation zweier Ciphertexte, werden die Klartexte addiert.\n",
    "\n",
    "$addCipher = (c_1 \\cdot c_2) \\mod n^2$"
   ]
  },
  {
   "cell_type": "code",
   "execution_count": 12,
   "metadata": {},
   "outputs": [
    {
     "name": "stdout",
     "output_type": "stream",
     "text": [
      "1432175365\n",
      "The sum of 2 + 7 = 9\n"
     ]
    }
   ],
   "source": [
    "# addition\n",
    "def add_encrypted_numbers(c1, c2, n_square):\n",
    "    return (c1 * c2) % n_square\n",
    "\n",
    "# added cipher\n",
    "added_cipher = add_encrypted_numbers(c1, c2, n**2)\n",
    "print(added_cipher)\n",
    "\n",
    "# added clear text\n",
    "added_decrypted = decryption(added_cipher, lmbda, n, mu)\n",
    "print(f\"The sum of {num1} + {num2} = {added_decrypted}\")"
   ]
  },
  {
   "cell_type": "markdown",
   "metadata": {},
   "source": [
    "## Text Beispiel"
   ]
  },
  {
   "cell_type": "code",
   "execution_count": 13,
   "metadata": {},
   "outputs": [
    {
     "name": "stdout",
     "output_type": "stream",
     "text": [
      "Bit length of 131 is: 8 bits\n",
      "Bit length of 173 is: 8 bits\n",
      "ggT =  1\n",
      "Multiplikative Gruppe (Z/n^2Z)* für n = 49447 enthält 118901097 Elemente.\n",
      "Random int g:  1013093713\n",
      "Multiplikative Gruppe (Z/nZ)* für n = 49447 enthält 5078 Elemente.\n",
      "Random int r:  5011\n",
      "Original sentence: Hello, world!\n",
      "Encrypted sentence: [1041618696, 907743447, 1771657709, 1771657709, 2105881072, 76382359, 1860370966, 2091906035, 2105881072, 190297417, 1771657709, 1909441000, 675861725]\n",
      "Decrypted sentence: Hello, world!\n"
     ]
    }
   ],
   "source": [
    "def generate_keypair(bit_length):\n",
    "    create_primes(bit_length)\n",
    "    # create values\n",
    "    n = (p * q)\n",
    "    phi = (p - 1) * (q - 1)\n",
    "    \n",
    "    # check ggT\n",
    "    result_ggT = ggT(n, phi)\n",
    "    print(\"ggT = \", result_ggT)\n",
    "    assert result_ggT == 1\n",
    "    \n",
    "    # choose random g\n",
    "    group_g = multi_group_g(n)\n",
    "    g = random.choice(group_g)\n",
    "    print(\"Multiplikative Gruppe (Z/n^2Z)* für n =\", n, \"enthält\", len(group_g), \"Elemente.\\nRandom int g: \", g)\n",
    "    \n",
    "    # final public Key\n",
    "    pubKey = n, g\n",
    "\n",
    "    lmbda = calc_lmbda(p, q)\n",
    "    mu = calc_mu(g, lmbda, n)\n",
    "\n",
    "    # final private Key\n",
    "    privKey = lmbda, mu\n",
    "\n",
    "    # choose random r\n",
    "    r = choose_r(n)\n",
    "    \n",
    "    return pubKey, privKey, r\n",
    "\n",
    "def encrypt_sentence(public_key, sentence):\n",
    "    n, g = public_key\n",
    "    ciphertext = []\n",
    "    for letter in sentence:\n",
    "        # convert letter in ASCII\n",
    "        letter_num = ord(letter)\n",
    "        # encrypt ASCII value\n",
    "        encrypted_letter = encryption(g, letter_num, r, n)\n",
    "        ciphertext.append(encrypted_letter)\n",
    "    return ciphertext\n",
    "\n",
    "def decrypt_sentence(ciphertext, private_key):\n",
    "    lam, mu = private_key\n",
    "    decrypted_sentence = \"\"\n",
    "    for encrypted_letter in ciphertext:\n",
    "        # decrypts ASCII value\n",
    "        decrypted_letter_num = decryption(encrypted_letter, lmbda, n, mu)\n",
    "        # ASCÌI to char\n",
    "        decrypted_letter = chr(decrypted_letter_num)\n",
    "        decrypted_sentence += decrypted_letter\n",
    "    return decrypted_sentence\n",
    "\n",
    "# Example\n",
    "bit_length = 8\n",
    "public_key, private_key, r = generate_keypair(bit_length)\n",
    "\n",
    "sentence = \"Hello, world!\"\n",
    "print(\"Original sentence:\", sentence)\n",
    "\n",
    "ciphertext = encrypt_sentence(public_key, sentence)\n",
    "print(\"Encrypted sentence:\", ciphertext)\n",
    "\n",
    "decrypted_sentence = decrypt_sentence(ciphertext, private_key)\n",
    "print(\"Decrypted sentence:\", decrypted_sentence)"
   ]
  }
 ],
 "metadata": {
  "kernelspec": {
   "display_name": "datascience",
   "language": "python",
   "name": "python3"
  },
  "language_info": {
   "codemirror_mode": {
    "name": "ipython",
    "version": 3
   },
   "file_extension": ".py",
   "mimetype": "text/x-python",
   "name": "python",
   "nbconvert_exporter": "python",
   "pygments_lexer": "ipython3",
   "version": "3.11.4"
  },
  "orig_nbformat": 4
 },
 "nbformat": 4,
 "nbformat_minor": 2
}
